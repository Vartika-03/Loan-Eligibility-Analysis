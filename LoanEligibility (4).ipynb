{
 "cells": [
  {
   "cell_type": "code",
   "execution_count": 143,
   "id": "bb97a4dd-a815-4ec0-9057-8ec2a6f5a23c",
   "metadata": {},
   "outputs": [
    {
     "name": "stdout",
     "output_type": "stream",
     "text": [
      "successfully imported\n"
     ]
    }
   ],
   "source": [
    "#importing libraries\n",
    "import pandas as pd #for data analysis and manipulation\n",
    "import numpy as np #for numerical operations and mathematical functions\n",
    "import matplotlib.pyplot as plt #for data visualisation\n",
    "import seaborn as sns #for statistical graphics\n",
    "from sklearn.model_selection import train_test_split #for training and testing \n",
    "from sklearn.preprocessing import MinMaxScaler,StandardScaler #for feature standardisation and normalisation\n",
    "from sklearn.metrics import accuracy_score,classification_report #for model evaluation\n",
    "\n",
    "#print to check importing of libraries\n",
    "print(\"successfully imported\")"
   ]
  },
  {
   "cell_type": "markdown",
   "id": "c378402b-0980-47f7-b7a8-491dcbb68d29",
   "metadata": {},
   "source": [
    "#loading the dataset"
   ]
  },
  {
   "cell_type": "code",
   "execution_count": 144,
   "id": "e3cf8172-e8eb-4753-9aa6-a1b3dc8b9db3",
   "metadata": {},
   "outputs": [
    {
     "name": "stdout",
     "output_type": "stream",
     "text": [
      "loading successfully\n"
     ]
    }
   ],
   "source": [
    "df=pd.read_csv('Loan_Data.csv')\n",
    "print(\"loading successfully\")"
   ]
  },
  {
   "cell_type": "code",
   "execution_count": 145,
   "id": "b5fdeb99-cbae-4ef9-b719-97482bfc2d62",
   "metadata": {},
   "outputs": [],
   "source": [
    "#dataset info"
   ]
  },
  {
   "cell_type": "code",
   "execution_count": 146,
   "id": "fdf2dc93-bb47-430b-a886-3521da375b12",
   "metadata": {},
   "outputs": [
    {
     "data": {
      "text/html": [
       "<div>\n",
       "<style scoped>\n",
       "    .dataframe tbody tr th:only-of-type {\n",
       "        vertical-align: middle;\n",
       "    }\n",
       "\n",
       "    .dataframe tbody tr th {\n",
       "        vertical-align: top;\n",
       "    }\n",
       "\n",
       "    .dataframe thead th {\n",
       "        text-align: right;\n",
       "    }\n",
       "</style>\n",
       "<table border=\"1\" class=\"dataframe\">\n",
       "  <thead>\n",
       "    <tr style=\"text-align: right;\">\n",
       "      <th></th>\n",
       "      <th>Loan_ID</th>\n",
       "      <th>Gender</th>\n",
       "      <th>Married</th>\n",
       "      <th>Dependents</th>\n",
       "      <th>Education</th>\n",
       "      <th>Self_Employed</th>\n",
       "      <th>ApplicantIncome</th>\n",
       "      <th>CoapplicantIncome</th>\n",
       "      <th>LoanAmount</th>\n",
       "      <th>Loan_Amount_Term</th>\n",
       "      <th>Credit_History</th>\n",
       "      <th>Property_Area</th>\n",
       "      <th>Loan_Status</th>\n",
       "    </tr>\n",
       "  </thead>\n",
       "  <tbody>\n",
       "    <tr>\n",
       "      <th>0</th>\n",
       "      <td>LP001002</td>\n",
       "      <td>Male</td>\n",
       "      <td>No</td>\n",
       "      <td>0</td>\n",
       "      <td>Graduate</td>\n",
       "      <td>No</td>\n",
       "      <td>5849</td>\n",
       "      <td>0.0</td>\n",
       "      <td>NaN</td>\n",
       "      <td>360.0</td>\n",
       "      <td>1.0</td>\n",
       "      <td>Urban</td>\n",
       "      <td>Y</td>\n",
       "    </tr>\n",
       "    <tr>\n",
       "      <th>1</th>\n",
       "      <td>LP001003</td>\n",
       "      <td>Male</td>\n",
       "      <td>Yes</td>\n",
       "      <td>1</td>\n",
       "      <td>Graduate</td>\n",
       "      <td>No</td>\n",
       "      <td>4583</td>\n",
       "      <td>1508.0</td>\n",
       "      <td>128.0</td>\n",
       "      <td>360.0</td>\n",
       "      <td>1.0</td>\n",
       "      <td>Rural</td>\n",
       "      <td>N</td>\n",
       "    </tr>\n",
       "    <tr>\n",
       "      <th>2</th>\n",
       "      <td>LP001005</td>\n",
       "      <td>Male</td>\n",
       "      <td>Yes</td>\n",
       "      <td>0</td>\n",
       "      <td>Graduate</td>\n",
       "      <td>Yes</td>\n",
       "      <td>3000</td>\n",
       "      <td>0.0</td>\n",
       "      <td>66.0</td>\n",
       "      <td>360.0</td>\n",
       "      <td>1.0</td>\n",
       "      <td>Urban</td>\n",
       "      <td>Y</td>\n",
       "    </tr>\n",
       "    <tr>\n",
       "      <th>3</th>\n",
       "      <td>LP001006</td>\n",
       "      <td>Male</td>\n",
       "      <td>Yes</td>\n",
       "      <td>0</td>\n",
       "      <td>Not Graduate</td>\n",
       "      <td>No</td>\n",
       "      <td>2583</td>\n",
       "      <td>2358.0</td>\n",
       "      <td>120.0</td>\n",
       "      <td>360.0</td>\n",
       "      <td>1.0</td>\n",
       "      <td>Urban</td>\n",
       "      <td>Y</td>\n",
       "    </tr>\n",
       "    <tr>\n",
       "      <th>4</th>\n",
       "      <td>LP001008</td>\n",
       "      <td>Male</td>\n",
       "      <td>No</td>\n",
       "      <td>0</td>\n",
       "      <td>Graduate</td>\n",
       "      <td>No</td>\n",
       "      <td>6000</td>\n",
       "      <td>0.0</td>\n",
       "      <td>141.0</td>\n",
       "      <td>360.0</td>\n",
       "      <td>1.0</td>\n",
       "      <td>Urban</td>\n",
       "      <td>Y</td>\n",
       "    </tr>\n",
       "    <tr>\n",
       "      <th>5</th>\n",
       "      <td>LP001011</td>\n",
       "      <td>Male</td>\n",
       "      <td>Yes</td>\n",
       "      <td>2</td>\n",
       "      <td>Graduate</td>\n",
       "      <td>Yes</td>\n",
       "      <td>5417</td>\n",
       "      <td>4196.0</td>\n",
       "      <td>267.0</td>\n",
       "      <td>360.0</td>\n",
       "      <td>1.0</td>\n",
       "      <td>Urban</td>\n",
       "      <td>Y</td>\n",
       "    </tr>\n",
       "    <tr>\n",
       "      <th>6</th>\n",
       "      <td>LP001013</td>\n",
       "      <td>Male</td>\n",
       "      <td>Yes</td>\n",
       "      <td>0</td>\n",
       "      <td>Not Graduate</td>\n",
       "      <td>No</td>\n",
       "      <td>2333</td>\n",
       "      <td>1516.0</td>\n",
       "      <td>95.0</td>\n",
       "      <td>360.0</td>\n",
       "      <td>1.0</td>\n",
       "      <td>Urban</td>\n",
       "      <td>Y</td>\n",
       "    </tr>\n",
       "    <tr>\n",
       "      <th>7</th>\n",
       "      <td>LP001014</td>\n",
       "      <td>Male</td>\n",
       "      <td>Yes</td>\n",
       "      <td>3+</td>\n",
       "      <td>Graduate</td>\n",
       "      <td>No</td>\n",
       "      <td>3036</td>\n",
       "      <td>2504.0</td>\n",
       "      <td>158.0</td>\n",
       "      <td>360.0</td>\n",
       "      <td>0.0</td>\n",
       "      <td>Semiurban</td>\n",
       "      <td>N</td>\n",
       "    </tr>\n",
       "  </tbody>\n",
       "</table>\n",
       "</div>"
      ],
      "text/plain": [
       "    Loan_ID Gender Married Dependents     Education Self_Employed  \\\n",
       "0  LP001002   Male      No          0      Graduate            No   \n",
       "1  LP001003   Male     Yes          1      Graduate            No   \n",
       "2  LP001005   Male     Yes          0      Graduate           Yes   \n",
       "3  LP001006   Male     Yes          0  Not Graduate            No   \n",
       "4  LP001008   Male      No          0      Graduate            No   \n",
       "5  LP001011   Male     Yes          2      Graduate           Yes   \n",
       "6  LP001013   Male     Yes          0  Not Graduate            No   \n",
       "7  LP001014   Male     Yes         3+      Graduate            No   \n",
       "\n",
       "   ApplicantIncome  CoapplicantIncome  LoanAmount  Loan_Amount_Term  \\\n",
       "0             5849                0.0         NaN             360.0   \n",
       "1             4583             1508.0       128.0             360.0   \n",
       "2             3000                0.0        66.0             360.0   \n",
       "3             2583             2358.0       120.0             360.0   \n",
       "4             6000                0.0       141.0             360.0   \n",
       "5             5417             4196.0       267.0             360.0   \n",
       "6             2333             1516.0        95.0             360.0   \n",
       "7             3036             2504.0       158.0             360.0   \n",
       "\n",
       "   Credit_History Property_Area Loan_Status  \n",
       "0             1.0         Urban           Y  \n",
       "1             1.0         Rural           N  \n",
       "2             1.0         Urban           Y  \n",
       "3             1.0         Urban           Y  \n",
       "4             1.0         Urban           Y  \n",
       "5             1.0         Urban           Y  \n",
       "6             1.0         Urban           Y  \n",
       "7             0.0     Semiurban           N  "
      ]
     },
     "execution_count": 146,
     "metadata": {},
     "output_type": "execute_result"
    }
   ],
   "source": [
    "df.head(8)"
   ]
  },
  {
   "cell_type": "code",
   "execution_count": 147,
   "id": "dad209bc-0d8d-41b7-bf3f-ad9dc085de1f",
   "metadata": {},
   "outputs": [
    {
     "data": {
      "text/plain": [
       "(614, 13)"
      ]
     },
     "execution_count": 147,
     "metadata": {},
     "output_type": "execute_result"
    }
   ],
   "source": [
    "#shape of the dataset\n",
    "df.shape"
   ]
  },
  {
   "cell_type": "code",
   "execution_count": 148,
   "id": "98b7c26b-1d65-4c0c-a17f-d1ef1d6d807e",
   "metadata": {},
   "outputs": [
    {
     "name": "stdout",
     "output_type": "stream",
     "text": [
      "number of rows- 614\n",
      "number of cols- 13\n",
      "number of features- 12\n",
      "number of all data- 7982\n"
     ]
    }
   ],
   "source": [
    "#dataset dimensions and statistics\n",
    "num_rows,num_cols=df.shape\n",
    "num_features=num_cols-1\n",
    "num_data=num_rows*num_cols\n",
    "\n",
    "#print the info\n",
    "print(\"number of rows-\",num_rows)\n",
    "print(\"number of cols-\",num_cols)\n",
    "print(\"number of features-\",num_features)\n",
    "print(\"number of all data-\",num_data)"
   ]
  },
  {
   "cell_type": "code",
   "execution_count": 149,
   "id": "7352da61-7dd2-49ce-8c13-b6a141daeb61",
   "metadata": {},
   "outputs": [
    {
     "name": "stdout",
     "output_type": "stream",
     "text": [
      "<class 'pandas.core.frame.DataFrame'>\n",
      "RangeIndex: 614 entries, 0 to 613\n",
      "Data columns (total 13 columns):\n",
      " #   Column             Non-Null Count  Dtype  \n",
      "---  ------             --------------  -----  \n",
      " 0   Loan_ID            614 non-null    object \n",
      " 1   Gender             601 non-null    object \n",
      " 2   Married            611 non-null    object \n",
      " 3   Dependents         599 non-null    object \n",
      " 4   Education          614 non-null    object \n",
      " 5   Self_Employed      582 non-null    object \n",
      " 6   ApplicantIncome    614 non-null    int64  \n",
      " 7   CoapplicantIncome  614 non-null    float64\n",
      " 8   LoanAmount         592 non-null    float64\n",
      " 9   Loan_Amount_Term   600 non-null    float64\n",
      " 10  Credit_History     564 non-null    float64\n",
      " 11  Property_Area      614 non-null    object \n",
      " 12  Loan_Status        614 non-null    object \n",
      "dtypes: float64(4), int64(1), object(8)\n",
      "memory usage: 62.5+ KB\n",
      "None\n"
     ]
    }
   ],
   "source": [
    "#dataset basic info like - column_names,data_types,non-null values counts\n",
    "print(df.info())"
   ]
  },
  {
   "cell_type": "code",
   "execution_count": 150,
   "id": "a07ee77e-b017-4e7f-b2b7-2274c1d01a47",
   "metadata": {},
   "outputs": [
    {
     "data": {
      "text/html": [
       "<div>\n",
       "<style scoped>\n",
       "    .dataframe tbody tr th:only-of-type {\n",
       "        vertical-align: middle;\n",
       "    }\n",
       "\n",
       "    .dataframe tbody tr th {\n",
       "        vertical-align: top;\n",
       "    }\n",
       "\n",
       "    .dataframe thead th {\n",
       "        text-align: right;\n",
       "    }\n",
       "</style>\n",
       "<table border=\"1\" class=\"dataframe\">\n",
       "  <thead>\n",
       "    <tr style=\"text-align: right;\">\n",
       "      <th></th>\n",
       "      <th>count</th>\n",
       "      <th>mean</th>\n",
       "      <th>std</th>\n",
       "      <th>min</th>\n",
       "      <th>25%</th>\n",
       "      <th>50%</th>\n",
       "      <th>75%</th>\n",
       "      <th>max</th>\n",
       "    </tr>\n",
       "  </thead>\n",
       "  <tbody>\n",
       "    <tr>\n",
       "      <th>ApplicantIncome</th>\n",
       "      <td>614.0</td>\n",
       "      <td>5403.459283</td>\n",
       "      <td>6109.041673</td>\n",
       "      <td>150.0</td>\n",
       "      <td>2877.5</td>\n",
       "      <td>3812.5</td>\n",
       "      <td>5795.00</td>\n",
       "      <td>81000.0</td>\n",
       "    </tr>\n",
       "    <tr>\n",
       "      <th>CoapplicantIncome</th>\n",
       "      <td>614.0</td>\n",
       "      <td>1621.245798</td>\n",
       "      <td>2926.248369</td>\n",
       "      <td>0.0</td>\n",
       "      <td>0.0</td>\n",
       "      <td>1188.5</td>\n",
       "      <td>2297.25</td>\n",
       "      <td>41667.0</td>\n",
       "    </tr>\n",
       "    <tr>\n",
       "      <th>LoanAmount</th>\n",
       "      <td>592.0</td>\n",
       "      <td>146.412162</td>\n",
       "      <td>85.587325</td>\n",
       "      <td>9.0</td>\n",
       "      <td>100.0</td>\n",
       "      <td>128.0</td>\n",
       "      <td>168.00</td>\n",
       "      <td>700.0</td>\n",
       "    </tr>\n",
       "    <tr>\n",
       "      <th>Loan_Amount_Term</th>\n",
       "      <td>600.0</td>\n",
       "      <td>342.000000</td>\n",
       "      <td>65.120410</td>\n",
       "      <td>12.0</td>\n",
       "      <td>360.0</td>\n",
       "      <td>360.0</td>\n",
       "      <td>360.00</td>\n",
       "      <td>480.0</td>\n",
       "    </tr>\n",
       "    <tr>\n",
       "      <th>Credit_History</th>\n",
       "      <td>564.0</td>\n",
       "      <td>0.842199</td>\n",
       "      <td>0.364878</td>\n",
       "      <td>0.0</td>\n",
       "      <td>1.0</td>\n",
       "      <td>1.0</td>\n",
       "      <td>1.00</td>\n",
       "      <td>1.0</td>\n",
       "    </tr>\n",
       "  </tbody>\n",
       "</table>\n",
       "</div>"
      ],
      "text/plain": [
       "                   count         mean          std    min     25%     50%  \\\n",
       "ApplicantIncome    614.0  5403.459283  6109.041673  150.0  2877.5  3812.5   \n",
       "CoapplicantIncome  614.0  1621.245798  2926.248369    0.0     0.0  1188.5   \n",
       "LoanAmount         592.0   146.412162    85.587325    9.0   100.0   128.0   \n",
       "Loan_Amount_Term   600.0   342.000000    65.120410   12.0   360.0   360.0   \n",
       "Credit_History     564.0     0.842199     0.364878    0.0     1.0     1.0   \n",
       "\n",
       "                       75%      max  \n",
       "ApplicantIncome    5795.00  81000.0  \n",
       "CoapplicantIncome  2297.25  41667.0  \n",
       "LoanAmount          168.00    700.0  \n",
       "Loan_Amount_Term    360.00    480.0  \n",
       "Credit_History        1.00      1.0  "
      ]
     },
     "execution_count": 150,
     "metadata": {},
     "output_type": "execute_result"
    }
   ],
   "source": [
    "#descriptive statistics of numeric variables \n",
    "df.describe().T"
   ]
  },
  {
   "cell_type": "markdown",
   "id": "fe531baf-767f-4150-bf41-168f90c7b63f",
   "metadata": {},
   "source": [
    "Standard Deviation (std)= A measure of the spread of the variable's values around the mean. A higher standard deviation indicates greater variability in the data.\r\n",
    "min = The smallest value.\r\n",
    "25% = It represents the value below which 25% of the data fall\r\n",
    "50% = It represents the value below which 50% of the data fall\r\n",
    "75% = It represents the value below which 75% of the data fall\r\n",
    "max = The largest value."
   ]
  },
  {
   "cell_type": "code",
   "execution_count": 151,
   "id": "cc25a731-6073-4113-9100-e09d929a7996",
   "metadata": {},
   "outputs": [
    {
     "data": {
      "text/html": [
       "<div>\n",
       "<style scoped>\n",
       "    .dataframe tbody tr th:only-of-type {\n",
       "        vertical-align: middle;\n",
       "    }\n",
       "\n",
       "    .dataframe tbody tr th {\n",
       "        vertical-align: top;\n",
       "    }\n",
       "\n",
       "    .dataframe thead th {\n",
       "        text-align: right;\n",
       "    }\n",
       "</style>\n",
       "<table border=\"1\" class=\"dataframe\">\n",
       "  <thead>\n",
       "    <tr style=\"text-align: right;\">\n",
       "      <th></th>\n",
       "      <th>Loan_ID</th>\n",
       "      <th>Gender</th>\n",
       "      <th>Married</th>\n",
       "      <th>Dependents</th>\n",
       "      <th>Education</th>\n",
       "      <th>Self_Employed</th>\n",
       "      <th>Property_Area</th>\n",
       "      <th>Loan_Status</th>\n",
       "    </tr>\n",
       "  </thead>\n",
       "  <tbody>\n",
       "    <tr>\n",
       "      <th>count</th>\n",
       "      <td>614</td>\n",
       "      <td>601</td>\n",
       "      <td>611</td>\n",
       "      <td>599</td>\n",
       "      <td>614</td>\n",
       "      <td>582</td>\n",
       "      <td>614</td>\n",
       "      <td>614</td>\n",
       "    </tr>\n",
       "    <tr>\n",
       "      <th>unique</th>\n",
       "      <td>614</td>\n",
       "      <td>2</td>\n",
       "      <td>2</td>\n",
       "      <td>4</td>\n",
       "      <td>2</td>\n",
       "      <td>2</td>\n",
       "      <td>3</td>\n",
       "      <td>2</td>\n",
       "    </tr>\n",
       "    <tr>\n",
       "      <th>top</th>\n",
       "      <td>LP001002</td>\n",
       "      <td>Male</td>\n",
       "      <td>Yes</td>\n",
       "      <td>0</td>\n",
       "      <td>Graduate</td>\n",
       "      <td>No</td>\n",
       "      <td>Semiurban</td>\n",
       "      <td>Y</td>\n",
       "    </tr>\n",
       "    <tr>\n",
       "      <th>freq</th>\n",
       "      <td>1</td>\n",
       "      <td>489</td>\n",
       "      <td>398</td>\n",
       "      <td>345</td>\n",
       "      <td>480</td>\n",
       "      <td>500</td>\n",
       "      <td>233</td>\n",
       "      <td>422</td>\n",
       "    </tr>\n",
       "  </tbody>\n",
       "</table>\n",
       "</div>"
      ],
      "text/plain": [
       "         Loan_ID Gender Married Dependents Education Self_Employed  \\\n",
       "count        614    601     611        599       614           582   \n",
       "unique       614      2       2          4         2             2   \n",
       "top     LP001002   Male     Yes          0  Graduate            No   \n",
       "freq           1    489     398        345       480           500   \n",
       "\n",
       "       Property_Area Loan_Status  \n",
       "count            614         614  \n",
       "unique             3           2  \n",
       "top        Semiurban           Y  \n",
       "freq             233         422  "
      ]
     },
     "execution_count": 151,
     "metadata": {},
     "output_type": "execute_result"
    }
   ],
   "source": [
    "#descriptive analysis of categorical variables only\n",
    "df.describe(include=object)"
   ]
  },
  {
   "cell_type": "markdown",
   "id": "094e6bcb-4640-4e42-8484-ea183b330f8a",
   "metadata": {},
   "source": [
    "#Exploratory Data Analysis(EDA) -\n",
    "data visualisation \n",
    "data cleaning\n",
    "data preprocessing\n"
   ]
  },
  {
   "cell_type": "code",
   "execution_count": 152,
   "id": "5cca7949-1516-47d5-8fcc-618f3089e851",
   "metadata": {},
   "outputs": [
    {
     "name": "stdout",
     "output_type": "stream",
     "text": [
      "Gender\n",
      "Male      489\n",
      "Female    112\n",
      "NaN        13\n",
      "Name: count, dtype: int64\n"
     ]
    },
    {
     "data": {
      "text/plain": [
       "<Axes: xlabel='Gender', ylabel='count'>"
      ]
     },
     "execution_count": 152,
     "metadata": {},
     "output_type": "execute_result"
    },
    {
     "data": {
      "image/png": "[encoded data removed]",
      "text/plain": [
       "<Figure size 640x480 with 1 Axes>"
      ]
     },
     "metadata": {},
     "output_type": "display_data"
    }
   ],
   "source": [
    "#data visualisation\n",
    "GenderAnalysis=df.Gender.value_counts(dropna=False)#dropna - as false to count NaN(Not-a-Number) values\n",
    "print(GenderAnalysis)\n",
    "#bar chart analysis for gender feature\n",
    "sns.countplot(x=\"Gender\",data=df,palette='flare')\n"
   ]
  },
  {
   "cell_type": "code",
   "execution_count": 153,
   "id": "03719f58-a01f-47c7-9387-9733b878489f",
   "metadata": {},
   "outputs": [
    {
     "name": "stdout",
     "output_type": "stream",
     "text": [
      "Married\n",
      "Yes    398\n",
      "No     213\n",
      "NaN      3\n",
      "Name: count, dtype: int64\n"
     ]
    },
    {
     "data": {
      "text/plain": [
       "<Axes: xlabel='Married', ylabel='count'>"
      ]
     },
     "execution_count": 153,
     "metadata": {},
     "output_type": "execute_result"
    },
    {
     "data": {
      "image/png": "[encoded data removed]",
      "text/plain": [
       "<Figure size 640x480 with 1 Axes>"
      ]
     },
     "metadata": {},
     "output_type": "display_data"
    }
   ],
   "source": [
    "MarriedAnalysis=df.Married.value_counts(dropna=False)\n",
    "print(MarriedAnalysis)\n",
    "\n",
    "sns.countplot(x=\"Married\",data=df,palette='flare')"
   ]
  },
  {
   "cell_type": "code",
   "execution_count": 154,
   "id": "df4d1b45-1153-4458-8016-c322df4c74cc",
   "metadata": {},
   "outputs": [
    {
     "name": "stdout",
     "output_type": "stream",
     "text": [
      "Dependents\n",
      "0      345\n",
      "1      102\n",
      "2      101\n",
      "3+      51\n",
      "NaN     15\n",
      "Name: count, dtype: int64\n"
     ]
    },
    {
     "data": {
      "image/png": "[encoded data removed]",
      "text/plain": [
       "<Figure size 640x480 with 1 Axes>"
      ]
     },
     "metadata": {},
     "output_type": "display_data"
    }
   ],
   "source": [
    "DependentsAnalysis = df.Dependents.value_counts(dropna=False)\n",
    "print(DependentsAnalysis)\n",
    "\n",
    "#bar chart analysis for DependentAnalysis\n",
    "sns.countplot(x=\"Dependents\", data=df, palette=\"flare\")\n",
    "plt.show()"
   ]
  },
  {
   "cell_type": "code",
   "execution_count": 155,
   "id": "9ed83d0b-82e0-471e-a8b2-6caea3e052ce",
   "metadata": {},
   "outputs": [
    {
     "name": "stdout",
     "output_type": "stream",
     "text": [
      "Education\n",
      "Graduate        480\n",
      "Not Graduate    134\n",
      "Name: count, dtype: int64\n"
     ]
    },
    {
     "data": {
      "image/png": "[encoded data removed]",
      "text/plain": [
       "<Figure size 640x480 with 1 Axes>"
      ]
     },
     "metadata": {},
     "output_type": "display_data"
    }
   ],
   "source": [
    "EducationAnalysis = df.Education.value_counts(dropna=False)\n",
    "print(EducationAnalysis)\n",
    "\n",
    "#bar chart analysis for EducationAnalysis\n",
    "sns.countplot(x=\"Education\", data=df, palette=\"flare\")\n",
    "plt.show()"
   ]
  },
  {
   "cell_type": "code",
   "execution_count": 156,
   "id": "7e59b296-7562-41f0-9f9a-86757f80b2eb",
   "metadata": {},
   "outputs": [
    {
     "name": "stdout",
     "output_type": "stream",
     "text": [
      "Self_Employed\n",
      "No     500\n",
      "Yes     82\n",
      "NaN     32\n",
      "Name: count, dtype: int64\n"
     ]
    },
    {
     "data": {
      "image/png": "[encoded data removed]",
      "text/plain": [
       "<Figure size 640x480 with 1 Axes>"
      ]
     },
     "metadata": {},
     "output_type": "display_data"
    }
   ],
   "source": [
    "Self_EmployedAnalysis = df.Self_Employed.value_counts(dropna=False)\n",
    "print(Self_EmployedAnalysis)\n",
    "\n",
    "#bar chart analysis for Self_EmployedAnalysis\n",
    "sns.countplot(x=\"Self_Employed\", data=df, palette=\"flare\")\n",
    "plt.show()\n"
   ]
  },
  {
   "cell_type": "code",
   "execution_count": 157,
   "id": "8436d265-041c-4f20-b65c-af72d6c0b196",
   "metadata": {},
   "outputs": [
    {
     "name": "stdout",
     "output_type": "stream",
     "text": [
      "The Average Income:  5403.459283387622\n",
      "Number of people income above the average: 176\n",
      "Number of people income below the average:  438\n"
     ]
    },
    {
     "name": "stderr",
     "output_type": "stream",
     "text": [
      "C:\\Users\\missv\\anaconda3\\Lib\\site-packages\\seaborn\\_oldcore.py:1765: FutureWarning: unique with argument that is not not a Series, Index, ExtensionArray, or np.ndarray is deprecated and will raise in a future version.\n",
      "  order = pd.unique(vector)\n"
     ]
    },
    {
     "data": {
      "image/png": "[encoded data removed]",
      "text/plain": [
       "<Figure size 800x400 with 1 Axes>"
      ]
     },
     "metadata": {},
     "output_type": "display_data"
    }
   ],
   "source": [
    "#calculate average income\n",
    "average_income = df['ApplicantIncome'].mean()\n",
    "print(\"The Average Income: \",average_income)\n",
    "\n",
    "\n",
    "# Count incomes higher and lower than average,counts boolean values\n",
    "above_average_count = (df['ApplicantIncome'] > average_income).sum()\n",
    "below_average_count = (df['ApplicantIncome'] <= average_income).sum()\n",
    "\n",
    "\n",
    "\n",
    "print(\"Number of people income above the average:\",above_average_count)\n",
    "print(\"Number of people income below the average: \",below_average_count)\n",
    "\n",
    "\n",
    "# Ratio plot using Seaborn\n",
    "plt.figure(figsize=(8, 4))\n",
    "sns.barplot(x=['Above Average', 'Below Average'], y=[above_average_count, below_average_count], palette=\"flare\")\n",
    "plt.title('Ratio of People with Income Above Average to Below Average')\n",
    "plt.ylabel('Count')\n",
    "plt.show()\n",
    "\n"
   ]
  },
  {
   "cell_type": "code",
   "execution_count": 158,
   "id": "472d1a88-0e72-4b5d-934f-224c28cf5033",
   "metadata": {},
   "outputs": [
    {
     "name": "stdout",
     "output_type": "stream",
     "text": [
      "Credit_History\n",
      "1.0    475\n",
      "0.0     89\n",
      "NaN     50\n",
      "Name: count, dtype: int64\n"
     ]
    },
    {
     "data": {
      "image/png": "[encoded data removed]",
      "text/plain": [
       "<Figure size 640x480 with 1 Axes>"
      ]
     },
     "metadata": {},
     "output_type": "display_data"
    }
   ],
   "source": [
    "Credit_HistoryAnalysis = df.Credit_History.value_counts(dropna=False)\n",
    "print(Credit_HistoryAnalysis)\n",
    "\n",
    "#Bar Charts Analysis for Credit_HistoryAnalysis\n",
    "sns.countplot(x=\"Credit_History\", data=df, palette=\"flare\")\n",
    "plt.show()"
   ]
  },
  {
   "cell_type": "code",
   "execution_count": 159,
   "id": "c366f58e-ed0b-4a63-adca-f6d249115ed7",
   "metadata": {},
   "outputs": [
    {
     "name": "stdout",
     "output_type": "stream",
     "text": [
      "Property_Area\n",
      "Semiurban    233\n",
      "Urban        202\n",
      "Rural        179\n",
      "Name: count, dtype: int64\n"
     ]
    },
    {
     "data": {
      "image/png": "[encoded data removed]",
      "text/plain": [
       "<Figure size 640x480 with 1 Axes>"
      ]
     },
     "metadata": {},
     "output_type": "display_data"
    }
   ],
   "source": [
    "Property_AreaAnalysis = df.Property_Area.value_counts(dropna=False)\n",
    "print(Property_AreaAnalysis)\n",
    "\n",
    "# Bar Charts Analysis for Property_AreaAnalysis\n",
    "sns.countplot(x=\"Property_Area\", data=df, palette=\"flare\")\n",
    "plt.show()"
   ]
  },
  {
   "cell_type": "code",
   "execution_count": 160,
   "id": "898b4278-ffac-45eb-8b9a-b2034be01612",
   "metadata": {},
   "outputs": [
    {
     "name": "stdout",
     "output_type": "stream",
     "text": [
      "Loan_Status\n",
      "Y    422\n",
      "N    192\n",
      "Name: count, dtype: int64\n"
     ]
    },
    {
     "data": {
      "image/png": "[encoded data removed]",
      "text/plain": [
       "<Figure size 640x480 with 1 Axes>"
      ]
     },
     "metadata": {},
     "output_type": "display_data"
    }
   ],
   "source": [
    "Loan_StatusAnalysis = df.Loan_Status.value_counts(dropna=False)\n",
    "print(Loan_StatusAnalysis)\n",
    "\n",
    "# Bar Charts Analysis for Loan_StatusAnalysis\n",
    "sns.countplot(x=\"Loan_Status\", data=df, palette=\"flare\")\n",
    "plt.show()"
   ]
  },
  {
   "cell_type": "code",
   "execution_count": 161,
   "id": "b961f061-c8cb-4153-976c-6bbed94575e5",
   "metadata": {},
   "outputs": [
    {
     "name": "stdout",
     "output_type": "stream",
     "text": [
      "Loan_Amount_Term\n",
      "360.0    512\n",
      "180.0     44\n",
      "480.0     15\n",
      "NaN       14\n",
      "300.0     13\n",
      "240.0      4\n",
      "84.0       4\n",
      "120.0      3\n",
      "60.0       2\n",
      "36.0       2\n",
      "12.0       1\n",
      "Name: count, dtype: int64\n"
     ]
    },
    {
     "data": {
      "image/png": "[encoded data removed]",
      "text/plain": [
       "<Figure size 640x480 with 1 Axes>"
      ]
     },
     "metadata": {},
     "output_type": "display_data"
    }
   ],
   "source": [
    "Loan_Amount_TermAnalysis = df.Loan_Amount_Term.value_counts(dropna=False)\n",
    "print(Loan_Amount_TermAnalysis)\n",
    "\n",
    "#Bar Charts Analysis for Loan_Amount_TermAnalysis\n",
    "sns.countplot(x=\"Loan_Amount_Term\", data=df, palette=\"flare\")\n",
    "plt.show()\n"
   ]
  },
  {
   "cell_type": "code",
   "execution_count": 162,
   "id": "6b40f69e-bf15-471f-9b39-925095fde473",
   "metadata": {},
   "outputs": [
    {
     "name": "stderr",
     "output_type": "stream",
     "text": [
      "C:\\Users\\missv\\anaconda3\\Lib\\site-packages\\seaborn\\_oldcore.py:1119: FutureWarning: use_inf_as_na option is deprecated and will be removed in a future version. Convert inf values to NaN before operating instead.\n",
      "  with pd.option_context('mode.use_inf_as_na', True):\n"
     ]
    },
    {
     "data": {
      "image/png": "[encoded data removed]",
      "text/plain": [
       "<Figure size 800x400 with 1 Axes>"
      ]
     },
     "metadata": {},
     "output_type": "display_data"
    },
    {
     "name": "stderr",
     "output_type": "stream",
     "text": [
      "C:\\Users\\missv\\anaconda3\\Lib\\site-packages\\seaborn\\_oldcore.py:1119: FutureWarning: use_inf_as_na option is deprecated and will be removed in a future version. Convert inf values to NaN before operating instead.\n",
      "  with pd.option_context('mode.use_inf_as_na', True):\n"
     ]
    },
    {
     "data": {
      "image/png": "[encoded data removed]",
      "text/plain": [
       "<Figure size 800x400 with 1 Axes>"
      ]
     },
     "metadata": {},
     "output_type": "display_data"
    }
   ],
   "source": [
    "# Histogram distribution for numerical values \"This enables us to see if there are outliers or not\"\n",
    "\n",
    "# Set the seaborn theme palette\n",
    "sns.set_theme(palette=\"flare\")\n",
    "#create a function for plot distribution \n",
    "def plot_distribution(column, title):\n",
    "    plt.figure(figsize=(8, 4))\n",
    "    sns.histplot(data=df, x=column)\n",
    "    plt.title(title)\n",
    "    plt.xlabel(column)\n",
    "    plt.ylabel('Frequency')\n",
    "    plt.show()\n",
    "\n",
    "# Plot distribution for each numerical column\n",
    "plot_distribution(\"ApplicantIncome\", \"Applicant Income Distribution\")\n",
    "\n",
    "plot_distribution(\"LoanAmount\", \"Loan Amount Distribution\")\n"
   ]
  },
  {
   "cell_type": "markdown",
   "id": "181b8085-a0d8-4776-98b7-64bb813677d1",
   "metadata": {},
   "source": [
    "Correlation Analysis\n"
   ]
  },
  {
   "cell_type": "code",
   "execution_count": 163,
   "id": "440a3400-abb5-495d-9bce-063ac0065baf",
   "metadata": {},
   "outputs": [
    {
     "data": {
      "text/plain": [
       "Text(0.5, 1.0, 'Correlation Matrix')"
      ]
     },
     "execution_count": 163,
     "metadata": {},
     "output_type": "execute_result"
    },
    {
     "data": {
      "image/png": "[encoded data removed]",
      "text/plain": [
       "<Figure size 1000x500 with 2 Axes>"
      ]
     },
     "metadata": {},
     "output_type": "display_data"
    }
   ],
   "source": [
    "# Correlation matrix using heatmap\n",
    "# Calculates the correlation coefficients between all pairs of numerical variables in the dataset\n",
    "correlation_matrix = df.corr(numeric_only=True)\n",
    "\n",
    "# Create a heatmap figure with specified size (in inches)\n",
    "plt.figure(figsize=(10, 5))\n",
    "\n",
    "# Generate a heatmap to visualize the correlation matrix\n",
    "sns.heatmap(correlation_matrix, cmap='flare') # annot - write the data value in each cell\n",
    "\n",
    "# Add a title to the plot\n",
    "plt.title('Correlation Matrix')\n"
   ]
  },
  {
   "cell_type": "markdown",
   "id": "d0b0aad8-db7a-4118-8a29-0d4c2f0dae2b",
   "metadata": {},
   "source": [
    "Positive correlation between Loan Amount and Applicant Income"
   ]
  },
  {
   "cell_type": "markdown",
   "id": "7baedcb1-e8e7-4428-bb56-7a0432692a80",
   "metadata": {},
   "source": [
    "Data Relationships Analysis"
   ]
  },
  {
   "cell_type": "code",
   "execution_count": 164,
   "id": "a241f6df-7693-4077-a800-d95c4861f6f2",
   "metadata": {},
   "outputs": [
    {
     "data": {
      "text/plain": [
       "Text(0, 0.5, 'Count')"
      ]
     },
     "execution_count": 164,
     "metadata": {},
     "output_type": "execute_result"
    },
    {
     "data": {
      "image/png": "[encoded data removed]",
      "text/plain": [
       "<Figure size 800x400 with 1 Axes>"
      ]
     },
     "metadata": {},
     "output_type": "display_data"
    }
   ],
   "source": [
    "# Create a cross-tabulation of 'Credit History' and 'Loan status' variables\n",
    "pd.crosstab(df.Credit_History, df.Loan_Status).plot(kind=\"bar\", figsize=(8, 4))\n",
    "\n",
    "# Add a title to the plot\n",
    "plt.title('Credit History VS Loan Status')\n",
    "\n",
    "# Label the x-axis\n",
    "plt.xlabel('Credit History')\n",
    "\n",
    "# Label the y-axis\n",
    "plt.ylabel('Count')\n",
    "\n"
   ]
  },
  {
   "cell_type": "markdown",
   "id": "0dd3a9fd-5103-4ade-95b2-986483a888bc",
   "metadata": {},
   "source": [
    "appears a good credit history significantly increases the chances of loan approval. Because the percentage of people who have a good credit history and are approved is much better than a bad credit history."
   ]
  },
  {
   "cell_type": "code",
   "execution_count": 165,
   "id": "2567a0a4-72ce-44e9-96df-237b2de84a34",
   "metadata": {},
   "outputs": [
    {
     "data": {
      "image/png": "[encoded data removed]",
      "text/plain": [
       "<Figure size 800x400 with 1 Axes>"
      ]
     },
     "metadata": {},
     "output_type": "display_data"
    }
   ],
   "source": [
    "# Create a cross-tabulation of 'Property Area' and 'Loan Status' variables\n",
    "pd.crosstab(df.Property_Area, df.Loan_Status).plot(kind=\"bar\", figsize=(8, 4))\n",
    "\n",
    "# Add a title to the plot\n",
    "plt.title('Property Area VS Loan Status')\n",
    "\n",
    "# Label the x-axis\n",
    "plt.xlabel('Property Area')\n",
    "\n",
    "# Label the y-axis\n",
    "plt.ylabel('Count')\n",
    "\n",
    "# Rotate the x-axis labels to avoid overlap\n",
    "plt.xticks(rotation=0)\n",
    "\n",
    "# Display the plot\n",
    "plt.show()"
   ]
  },
  {
   "cell_type": "markdown",
   "id": "9e580054-afd5-448d-adc4-de6754b4b640",
   "metadata": {},
   "source": [
    "Most of loan that got accepted has property in Semiurban compared to Urban and Rural."
   ]
  },
  {
   "cell_type": "markdown",
   "id": "dc001450-1177-4ffe-8cb6-a89520f7b785",
   "metadata": {},
   "source": [
    "#Data Cleaning"
   ]
  },
  {
   "cell_type": "code",
   "execution_count": 166,
   "id": "9e559baa-a1cd-460e-9373-507d5a812fec",
   "metadata": {},
   "outputs": [
    {
     "name": "stdout",
     "output_type": "stream",
     "text": [
      "Loan_ID               0\n",
      "Gender               13\n",
      "Married               3\n",
      "Dependents           15\n",
      "Education             0\n",
      "Self_Employed        32\n",
      "ApplicantIncome       0\n",
      "CoapplicantIncome     0\n",
      "LoanAmount           22\n",
      "Loan_Amount_Term     14\n",
      "Credit_History       50\n",
      "Property_Area         0\n",
      "Loan_Status           0\n",
      "dtype: int64\n",
      "total null values in the dataset- 149\n"
     ]
    }
   ],
   "source": [
    "# Check for missing values\n",
    "null_counts = df.isnull().sum()\n",
    "\n",
    "#Display the number of null values\n",
    "print(null_counts)\n",
    "\n",
    "#print the number of null values\n",
    "print(\"total null values in the dataset-\",null_counts.sum())"
   ]
  },
  {
   "cell_type": "code",
   "execution_count": 167,
   "id": "91bca8be-6a5c-4f7f-94d1-4b7eee6eadcd",
   "metadata": {},
   "outputs": [],
   "source": [
    "# Fill the missing values for numerical data, .fillna = fill (NaN) values\n",
    "# [0] This ensures that if there are multiple mode values, only the first one is selected.\n",
    "df[\"Credit_History\"] = df[\"Credit_History\"].fillna(df[\"Credit_History\"].mode()[0])\n",
    "\n",
    "# The best way fill in the Loan Amount is the Mean (The average).\n",
    "df[\"LoanAmount\"] = df[\"LoanAmount\"].fillna(df[\"LoanAmount\"].mean())\n",
    "\n",
    "# The best way fill in the Credit History is the mode (Most common valus)\n",
    "df[\"Loan_Amount_Term\"] = df[\"Loan_Amount_Term\"].fillna(df[\"Loan_Amount_Term\"].mode()[0])\n",
    "\n",
    "\n",
    "# Fill the missing values for categorical data.\n",
    "df[\"Gender\"] = df[\"Gender\"].fillna(df[\"Gender\"].mode()[0])\n",
    "df[\"Married\"] = df[\"Married\"].fillna(df[\"Married\"].mode()[0])\n",
    "df[\"Dependents\"] = df[\"Dependents\"].fillna(df[\"Dependents\"].mode()[0])\n",
    "df[\"Self_Employed\"] = df[\"Self_Employed\"].fillna(df[\"Self_Employed\"].mode()[0])\n",
    "\n",
    "\n",
    "\n",
    "\n",
    "\n",
    "\n"
   ]
  },
  {
   "cell_type": "code",
   "execution_count": 168,
   "id": "647e7d83-e375-4210-874f-19e1f1c9dba1",
   "metadata": {},
   "outputs": [
    {
     "name": "stdout",
     "output_type": "stream",
     "text": [
      "Loan_ID              0\n",
      "Gender               0\n",
      "Married              0\n",
      "Dependents           0\n",
      "Education            0\n",
      "Self_Employed        0\n",
      "ApplicantIncome      0\n",
      "CoapplicantIncome    0\n",
      "LoanAmount           0\n",
      "Loan_Amount_Term     0\n",
      "Credit_History       0\n",
      "Property_Area        0\n",
      "Loan_Status          0\n",
      "dtype: int64\n",
      "total null values in the dataset- 0\n"
     ]
    }
   ],
   "source": [
    "# Checking for missing values after handling\n",
    "null_counts = df.isnull().sum()\n",
    "\n",
    "# Display the number of null values after handling\n",
    "print(null_counts)\n",
    "\n",
    "#print the number of null values\n",
    "print(\"total null values in the dataset-\",null_counts.sum())\n"
   ]
  },
  {
   "cell_type": "markdown",
   "id": "032e6c70-327d-4bab-9e06-15f8b5994aa3",
   "metadata": {},
   "source": [
    "# Encoding the categorical values"
   ]
  },
  {
   "cell_type": "code",
   "execution_count": 169,
   "id": "f8fdccab-3fd7-4717-8d74-0ef21fcdab08",
   "metadata": {
    "scrolled": true
   },
   "outputs": [
    {
     "name": "stdout",
     "output_type": "stream",
     "text": [
      "Original shape: (614, 13)\n",
      "Columns after one-hot encoding: Index(['ApplicantIncome', 'CoapplicantIncome', 'LoanAmount',\n",
      "       'Loan_Amount_Term', 'Credit_History', 'Loan_ID_LP001002',\n",
      "       'Loan_ID_LP001003', 'Loan_ID_LP001005', 'Loan_ID_LP001006',\n",
      "       'Loan_ID_LP001008',\n",
      "       ...\n",
      "       'Dependents_3+', 'Education_Graduate', 'Education_Not Graduate',\n",
      "       'Self_Employed_No', 'Self_Employed_Yes', 'Property_Area_Rural',\n",
      "       'Property_Area_Semiurban', 'Property_Area_Urban', 'Loan_Status_N',\n",
      "       'Loan_Status_Y'],\n",
      "      dtype='object', length=636)\n"
     ]
    },
    {
     "data": {
      "text/html": [
       "<div>\n",
       "<style scoped>\n",
       "    .dataframe tbody tr th:only-of-type {\n",
       "        vertical-align: middle;\n",
       "    }\n",
       "\n",
       "    .dataframe tbody tr th {\n",
       "        vertical-align: top;\n",
       "    }\n",
       "\n",
       "    .dataframe thead th {\n",
       "        text-align: right;\n",
       "    }\n",
       "</style>\n",
       "<table border=\"1\" class=\"dataframe\">\n",
       "  <thead>\n",
       "    <tr style=\"text-align: right;\">\n",
       "      <th></th>\n",
       "      <th>ApplicantIncome</th>\n",
       "      <th>CoapplicantIncome</th>\n",
       "      <th>LoanAmount</th>\n",
       "      <th>Loan_Amount_Term</th>\n",
       "      <th>Credit_History</th>\n",
       "      <th>Loan_ID_LP001002</th>\n",
       "      <th>Loan_ID_LP001003</th>\n",
       "      <th>Loan_ID_LP001005</th>\n",
       "      <th>Loan_ID_LP001006</th>\n",
       "      <th>Loan_ID_LP001008</th>\n",
       "      <th>...</th>\n",
       "      <th>Dependents_3+</th>\n",
       "      <th>Education_Graduate</th>\n",
       "      <th>Education_Not Graduate</th>\n",
       "      <th>Self_Employed_No</th>\n",
       "      <th>Self_Employed_Yes</th>\n",
       "      <th>Property_Area_Rural</th>\n",
       "      <th>Property_Area_Semiurban</th>\n",
       "      <th>Property_Area_Urban</th>\n",
       "      <th>Loan_Status_N</th>\n",
       "      <th>Loan_Status_Y</th>\n",
       "    </tr>\n",
       "  </thead>\n",
       "  <tbody>\n",
       "    <tr>\n",
       "      <th>0</th>\n",
       "      <td>5849</td>\n",
       "      <td>0.0</td>\n",
       "      <td>NaN</td>\n",
       "      <td>360.0</td>\n",
       "      <td>1.0</td>\n",
       "      <td>True</td>\n",
       "      <td>False</td>\n",
       "      <td>False</td>\n",
       "      <td>False</td>\n",
       "      <td>False</td>\n",
       "      <td>...</td>\n",
       "      <td>False</td>\n",
       "      <td>True</td>\n",
       "      <td>False</td>\n",
       "      <td>True</td>\n",
       "      <td>False</td>\n",
       "      <td>False</td>\n",
       "      <td>False</td>\n",
       "      <td>True</td>\n",
       "      <td>False</td>\n",
       "      <td>True</td>\n",
       "    </tr>\n",
       "    <tr>\n",
       "      <th>1</th>\n",
       "      <td>4583</td>\n",
       "      <td>1508.0</td>\n",
       "      <td>128.0</td>\n",
       "      <td>360.0</td>\n",
       "      <td>1.0</td>\n",
       "      <td>False</td>\n",
       "      <td>True</td>\n",
       "      <td>False</td>\n",
       "      <td>False</td>\n",
       "      <td>False</td>\n",
       "      <td>...</td>\n",
       "      <td>False</td>\n",
       "      <td>True</td>\n",
       "      <td>False</td>\n",
       "      <td>True</td>\n",
       "      <td>False</td>\n",
       "      <td>True</td>\n",
       "      <td>False</td>\n",
       "      <td>False</td>\n",
       "      <td>True</td>\n",
       "      <td>False</td>\n",
       "    </tr>\n",
       "    <tr>\n",
       "      <th>2</th>\n",
       "      <td>3000</td>\n",
       "      <td>0.0</td>\n",
       "      <td>66.0</td>\n",
       "      <td>360.0</td>\n",
       "      <td>1.0</td>\n",
       "      <td>False</td>\n",
       "      <td>False</td>\n",
       "      <td>True</td>\n",
       "      <td>False</td>\n",
       "      <td>False</td>\n",
       "      <td>...</td>\n",
       "      <td>False</td>\n",
       "      <td>True</td>\n",
       "      <td>False</td>\n",
       "      <td>False</td>\n",
       "      <td>True</td>\n",
       "      <td>False</td>\n",
       "      <td>False</td>\n",
       "      <td>True</td>\n",
       "      <td>False</td>\n",
       "      <td>True</td>\n",
       "    </tr>\n",
       "    <tr>\n",
       "      <th>3</th>\n",
       "      <td>2583</td>\n",
       "      <td>2358.0</td>\n",
       "      <td>120.0</td>\n",
       "      <td>360.0</td>\n",
       "      <td>1.0</td>\n",
       "      <td>False</td>\n",
       "      <td>False</td>\n",
       "      <td>False</td>\n",
       "      <td>True</td>\n",
       "      <td>False</td>\n",
       "      <td>...</td>\n",
       "      <td>False</td>\n",
       "      <td>False</td>\n",
       "      <td>True</td>\n",
       "      <td>True</td>\n",
       "      <td>False</td>\n",
       "      <td>False</td>\n",
       "      <td>False</td>\n",
       "      <td>True</td>\n",
       "      <td>False</td>\n",
       "      <td>True</td>\n",
       "    </tr>\n",
       "    <tr>\n",
       "      <th>4</th>\n",
       "      <td>6000</td>\n",
       "      <td>0.0</td>\n",
       "      <td>141.0</td>\n",
       "      <td>360.0</td>\n",
       "      <td>1.0</td>\n",
       "      <td>False</td>\n",
       "      <td>False</td>\n",
       "      <td>False</td>\n",
       "      <td>False</td>\n",
       "      <td>True</td>\n",
       "      <td>...</td>\n",
       "      <td>False</td>\n",
       "      <td>True</td>\n",
       "      <td>False</td>\n",
       "      <td>True</td>\n",
       "      <td>False</td>\n",
       "      <td>False</td>\n",
       "      <td>False</td>\n",
       "      <td>True</td>\n",
       "      <td>False</td>\n",
       "      <td>True</td>\n",
       "    </tr>\n",
       "  </tbody>\n",
       "</table>\n",
       "<p>5 rows × 636 columns</p>\n",
       "</div>"
      ],
      "text/plain": [
       "   ApplicantIncome  CoapplicantIncome  LoanAmount  Loan_Amount_Term  \\\n",
       "0             5849                0.0         NaN             360.0   \n",
       "1             4583             1508.0       128.0             360.0   \n",
       "2             3000                0.0        66.0             360.0   \n",
       "3             2583             2358.0       120.0             360.0   \n",
       "4             6000                0.0       141.0             360.0   \n",
       "\n",
       "   Credit_History  Loan_ID_LP001002  Loan_ID_LP001003  Loan_ID_LP001005  \\\n",
       "0             1.0              True             False             False   \n",
       "1             1.0             False              True             False   \n",
       "2             1.0             False             False              True   \n",
       "3             1.0             False             False             False   \n",
       "4             1.0             False             False             False   \n",
       "\n",
       "   Loan_ID_LP001006  Loan_ID_LP001008  ...  Dependents_3+  Education_Graduate  \\\n",
       "0             False             False  ...          False                True   \n",
       "1             False             False  ...          False                True   \n",
       "2             False             False  ...          False                True   \n",
       "3              True             False  ...          False               False   \n",
       "4             False              True  ...          False                True   \n",
       "\n",
       "   Education_Not Graduate  Self_Employed_No  Self_Employed_Yes  \\\n",
       "0                   False              True              False   \n",
       "1                   False              True              False   \n",
       "2                   False             False               True   \n",
       "3                    True              True              False   \n",
       "4                   False              True              False   \n",
       "\n",
       "   Property_Area_Rural  Property_Area_Semiurban  Property_Area_Urban  \\\n",
       "0                False                    False                 True   \n",
       "1                 True                    False                False   \n",
       "2                False                    False                 True   \n",
       "3                False                    False                 True   \n",
       "4                False                    False                 True   \n",
       "\n",
       "   Loan_Status_N  Loan_Status_Y  \n",
       "0          False           True  \n",
       "1           True          False  \n",
       "2          False           True  \n",
       "3          False           True  \n",
       "4          False           True  \n",
       "\n",
       "[5 rows x 636 columns]"
      ]
     },
     "execution_count": 169,
     "metadata": {},
     "output_type": "execute_result"
    }
   ],
   "source": [
    "#Encoding categorical values in machine learning is essential because most algorithms require numerical input.\n",
    "# Assuming df is already loaded from a CSV or another source\n",
    "df = pd.read_csv('Loan_Data.csv')\n",
    "\n",
    "# Display the original DataFrame shape\n",
    "print(f\"Original shape: {df.shape}\")\n",
    "\n",
    "# Ensure the DataFrame is not empty\n",
    "\n",
    "\n",
    "# One-hot encode categorical features, drop the first category to avoid multicollinearity\n",
    "df = pd.get_dummies(df)\n",
    "    \n",
    "# Display the columns after one-hot encoding\n",
    "print(f\"Columns after one-hot encoding: {df.columns}\")\n",
    "    \n",
    "  \n",
    "# Display the first few rows to check the changes\n",
    "df.head()\n",
    "\n",
    "\n",
    "\n",
    "\n",
    "\n",
    "\n"
   ]
  },
  {
   "cell_type": "markdown",
   "id": "9c24863c-fe67-4b1e-ab0e-decc860b6c19",
   "metadata": {},
   "source": [
    "#Data Preprocessing-involves the following\n",
    "Splitting data into \"Features\" - \"Target\"\r\n",
    "SMOTE Technique\r\n",
    "Data Re-scaling and Normalizing the features\r\n",
    "Splitting data into \"Training\" - \"Testing\" Data"
   ]
  },
  {
   "cell_type": "code",
   "execution_count": 170,
   "id": "1d9668af-3834-4505-bacf-ba913b8a936e",
   "metadata": {},
   "outputs": [
    {
     "name": "stdout",
     "output_type": "stream",
     "text": [
      "Shape of X: (614, 634)\n",
      "Shape of Y: (614, 2)\n",
      "\n",
      "Features (X):\n",
      "   ApplicantIncome  CoapplicantIncome  LoanAmount  Loan_Amount_Term  \\\n",
      "0             5849                0.0         NaN             360.0   \n",
      "1             4583             1508.0       128.0             360.0   \n",
      "2             3000                0.0        66.0             360.0   \n",
      "3             2583             2358.0       120.0             360.0   \n",
      "4             6000                0.0       141.0             360.0   \n",
      "\n",
      "   Credit_History  Loan_ID_LP001002  Loan_ID_LP001003  Loan_ID_LP001005  \\\n",
      "0             1.0              True             False             False   \n",
      "1             1.0             False              True             False   \n",
      "2             1.0             False             False              True   \n",
      "3             1.0             False             False             False   \n",
      "4             1.0             False             False             False   \n",
      "\n",
      "   Loan_ID_LP001006  Loan_ID_LP001008  ...  Dependents_1  Dependents_2  \\\n",
      "0             False             False  ...         False         False   \n",
      "1             False             False  ...          True         False   \n",
      "2             False             False  ...         False         False   \n",
      "3              True             False  ...         False         False   \n",
      "4             False              True  ...         False         False   \n",
      "\n",
      "   Dependents_3+  Education_Graduate  Education_Not Graduate  \\\n",
      "0          False                True                   False   \n",
      "1          False                True                   False   \n",
      "2          False                True                   False   \n",
      "3          False               False                    True   \n",
      "4          False                True                   False   \n",
      "\n",
      "   Self_Employed_No  Self_Employed_Yes  Property_Area_Rural  \\\n",
      "0              True              False                False   \n",
      "1              True              False                 True   \n",
      "2             False               True                False   \n",
      "3              True              False                False   \n",
      "4              True              False                False   \n",
      "\n",
      "   Property_Area_Semiurban  Property_Area_Urban  \n",
      "0                    False                 True  \n",
      "1                    False                False  \n",
      "2                    False                 True  \n",
      "3                    False                 True  \n",
      "4                    False                 True  \n",
      "\n",
      "[5 rows x 634 columns]\n",
      "\n",
      "Target (Y):\n",
      "   Loan_Status_N  Loan_Status_Y\n",
      "0          False           True\n",
      "1           True          False\n",
      "2          False           True\n",
      "3          False           True\n",
      "4          False           True\n"
     ]
    }
   ],
   "source": [
    "#splitting data into features and targets\n",
    "#ensures that pandas returns a DataFrame\n",
    "# Target variable \"Outputs\" (Y)\n",
    "Y = df[['Loan_Status_N','Loan_Status_Y']]\n",
    "\n",
    "# Features \"Inputs\" (X)\n",
    "X = df.drop(['Loan_Status_N','Loan_Status_Y'], axis=1)\n",
    "\n",
    "\n",
    "\n",
    "# Print the shapes of X and Y to verify the splitting\n",
    "print(\"Shape of X:\", X.shape)\n",
    "print(\"Shape of Y:\", Y.shape)\n",
    "\n",
    "print(\"\\nFeatures (X):\")\n",
    "print(X.head())  # This should display the first few rows of X\n",
    "print(\"\\nTarget (Y):\")\n",
    "print(Y.head())  # This should display the first few rows of Y"
   ]
  },
  {
   "cell_type": "code",
   "execution_count": 176,
   "id": "f9f5b7e2-045d-4984-aa17-7f1e8c77a9b0",
   "metadata": {},
   "outputs": [
    {
     "name": "stdout",
     "output_type": "stream",
     "text": [
      "Shape of X_train: (491, 634)\n",
      "Shape of X_test: (123, 634)\n",
      "Shape of Y_train: (491, 2)\n",
      "Shape of Y_test: (123, 2)\n"
     ]
    }
   ],
   "source": [
    "from sklearn.model_selection import train_test_split\n",
    "# Split the data into training and testing sets\n",
    "# X: Features, Y: Target variable\n",
    "# test_size=0.2 specifies that 20% of the data will be used for testing and 80% for training\n",
    "# random_state=0 sets the random seed for reproducibility\n",
    "X_train, X_test, Y_train, Y_test = train_test_split(X, Y, test_size=0.2, random_state=0)\n",
    "\n",
    "# Print the shapes of the training and testing sets to verify the splitting\n",
    "print(\"Shape of X_train:\", X_train.shape)\n",
    "print(\"Shape of X_test:\", X_test.shape)\n",
    "print(\"Shape of Y_train:\", Y_train.shape) \n",
    "print(\"Shape of Y_test:\", Y_test.shape)"
   ]
  },
  {
   "cell_type": "markdown",
   "id": "ac22be5c-afe7-44f6-8692-193a4446f3ab",
   "metadata": {},
   "source": [
    "Model Selection- includes\n",
    "Importing models for selection process\r\n",
    "Training our models.\r\n",
    "Decision Tree Classifier\r\n",
    "Random Forest Classifier (Highest Accuracy)\r\n",
    "Naives Bayes\r\n",
    "GaussianNB (Suitable for continuous data)\r\n",
    "BernoulliNB (Suitable for binary value)\r\n",
    "Logistic Regression\r\n",
    "Ridge Classifier CV\r\n",
    "K-Nearest Neighbors (KNN)\r\n",
    "For future searching\r\n",
    "Support Vector Classifier\r\n",
    "Gradient Boosting Classifier"
   ]
  },
  {
   "cell_type": "code",
   "execution_count": 173,
   "id": "0175d787-11ee-4cce-b109-d42cdf30b38d",
   "metadata": {},
   "outputs": [],
   "source": [
    "#1. Importing models for selection process¶"
   ]
  },
  {
   "cell_type": "code",
   "execution_count": 3,
   "id": "f30f6ab3-d401-4b33-8498-4c9b5f6c01ca",
   "metadata": {},
   "outputs": [
    {
     "name": "stdout",
     "output_type": "stream",
     "text": [
      "THE REQUIRED LIBRARIES WERE SUCCESSFULLY IMPORTED...\n"
     ]
    }
   ],
   "source": [
    "from sklearn.tree import DecisionTreeClassifier  # For Decision Tree Classifier Model\n",
    "\n",
    "# Printing a success message in green color\n",
    "print(\"THE REQUIRED LIBRARIES WERE SUCCESSFULLY IMPORTED...\")"
   ]
  },
  {
   "cell_type": "code",
   "execution_count": 4,
   "id": "222131a7-a667-492d-83f3-946c6cc6c1b7",
   "metadata": {},
   "outputs": [],
   "source": [
    "#2. Training the Machine Learning Algorithms¶"
   ]
  },
  {
   "cell_type": "code",
   "execution_count": 362,
   "id": "b1ff37a2-8b6d-4058-801d-c60f6801c7ac",
   "metadata": {},
   "outputs": [
    {
     "name": "stdout",
     "output_type": "stream",
     "text": [
      "Decision Tree best accuracy (Training): 81.06%\n",
      "Decision Tree best accuracy (Testing): 82.93%\n",
      "The Decision Tree model has been trained successfully\n"
     ]
    }
   ],
   "source": [
    "# Decision Tree Classifier Parameters\n",
    "# max_depth (The maximum depth of the tree)\n",
    "# min_samples_split (The minimum number of samples required to split an internal node \"2 by default\")\n",
    "# min_samples_leaf (The minimum number of samples required to be at a leaf node)\n",
    "# max_features (The number of features to consider when looking for the best split)\n",
    "\n",
    "# Initialize lists to store training and testing accuracies\n",
    "scoreListDT_Train = []\n",
    "scoreListDT_Test = []\n",
    "\n",
    "# Iterate over different values of max_depth\n",
    "for i in range(1, 20):\n",
    "    # Iterate over different values of min_samples_leaf\n",
    "    for j in range(1, 5):\n",
    "        # Create a Decision Tree model with the different values of max_depth, min_samples_leaf, and fixed max_features\n",
    "        Model1 = DecisionTreeClassifier(max_depth=i, min_samples_leaf=j, max_features=2)\n",
    "\n",
    "        # Fit the model on the training data\n",
    "        Model1.fit(X_train, Y_train)\n",
    "\n",
    "        # Calculate and store the training accuracy\n",
    "        scoreListDT_Train.append(Model1.score(X_train, Y_train))\n",
    "\n",
    "        # Calculate and store the testing accuracy\n",
    "        scoreListDT_Test.append(Model1.score(X_test, Y_test))\n",
    "\n",
    "# Find the maximum accuracy for both training and testing\n",
    "DT_Accuracy_Train = max(scoreListDT_Train) \n",
    "DT_Accuracy_Test = max(scoreListDT_Test)\n",
    "\n",
    "\n",
    "# Print a success message indicating that the model has been trained successfully\n",
    "print(\"The Decision Tree model has been trained successfully\")\n",
    "        \n"
   ]
  },
  {
   "cell_type": "code",
   "execution_count": 364,
   "id": "de37f106-b9e9-47ce-993f-9ae70717d3bb",
   "metadata": {},
   "outputs": [
    {
     "name": "stdout",
     "output_type": "stream",
     "text": [
      "{model_name:<50} Training Score: 81.05906313645622\n"
     ]
    }
   ],
   "source": [
    "#Training Score¶\n",
    "# Dictionary to store model names and their respective training scores (key:value)\n",
    "model_train_scores = {\n",
    "    \"Model 1-Decision Tree Classifier\": DT_Accuracy_Train,\n",
    "}\n",
    "\n",
    "    \n",
    "\n",
    "# Loop through each model and print the training score\n",
    "for model_name, accuracy in model_train_scores.items():\n",
    "    print(\"{model_name:<50} Training Score:\",accuracy*100 )\n"
   ]
  },
  {
   "cell_type": "code",
   "execution_count": 365,
   "id": "d8af8b32-02d8-4fb6-9fe6-b1c9cda92ef1",
   "metadata": {},
   "outputs": [
    {
     "name": "stdout",
     "output_type": "stream",
     "text": [
      "{model_name:<50} Testing Score: 82.92682926829268\n"
     ]
    }
   ],
   "source": [
    "#2. Testing Score¶\n",
    "# Dictionary to store model names and their respective testing scores\n",
    "model_test_scores = {\n",
    "    \"Model 1-Decision Tree Classifier\": DT_Accuracy_Test,\n",
    "}\n",
    "# Loop through each model and print the testing score\n",
    "for model_name, accuracy in model_test_scores.items():\n",
    "    print(\"{model_name:<50} Testing Score:\",accuracy*100)\n"
   ]
  },
  {
   "cell_type": "code",
   "execution_count": 368,
   "id": "53b835e4-3fd9-49d5-a2fb-2247f2aa7155",
   "metadata": {},
   "outputs": [
    {
     "name": "stdout",
     "output_type": "stream",
     "text": [
      "Model saved to model.pkl\n"
     ]
    }
   ],
   "source": [
    "#Model Saving\n",
    "import pickle\n",
    "\n",
    "filename = 'model.pkl'\n",
    "with open(filename, 'wb') as file:\n",
    "    pickle.dump(Model1, file)\n",
    "    \n",
    "print(f\"Model saved to {filename}\")"
   ]
  }
 ],
 "metadata": {
  "kernelspec": {
   "display_name": "Python 3 (ipykernel)",
   "language": "python",
   "name": "python3"
  },
  "language_info": {
   "codemirror_mode": {
    "name": "ipython",
    "version": 3
   },
   "file_extension": ".py",
   "mimetype": "text/x-python",
   "name": "python",
   "nbconvert_exporter": "python",
   "pygments_lexer": "ipython3",
   "version": "3.11.5"
  }
 },
 "nbformat": 4,
 "nbformat_minor": 5
}
